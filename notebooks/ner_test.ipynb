{
 "cells": [
  {
   "cell_type": "code",
   "execution_count": 1,
   "id": "7ccd0d9f",
   "metadata": {},
   "outputs": [],
   "source": [
    "import sys\n",
    "import os\n",
    "sys.path.append(os.path.abspath(\"..\"))  # üst klasörü ekle\n",
    "\n",
    "from services.preprocessing import temizle\n"
   ]
  },
  {
   "cell_type": "code",
   "execution_count": 2,
   "id": "9323a4ce",
   "metadata": {},
   "outputs": [
    {
     "name": "stderr",
     "output_type": "stream",
     "text": [
      "c:\\Users\\vatan\\AppData\\Local\\Programs\\Python\\Python311\\Lib\\site-packages\\tqdm\\auto.py:21: TqdmWarning: IProgress not found. Please update jupyter and ipywidgets. See https://ipywidgets.readthedocs.io/en/stable/user_install.html\n",
      "  from .autonotebook import tqdm as notebook_tqdm\n",
      "Some weights of the model checkpoint at savasy/bert-base-turkish-ner-cased were not used when initializing BertForTokenClassification: ['bert.pooler.dense.bias', 'bert.pooler.dense.weight']\n",
      "- This IS expected if you are initializing BertForTokenClassification from the checkpoint of a model trained on another task or with another architecture (e.g. initializing a BertForSequenceClassification model from a BertForPreTraining model).\n",
      "- This IS NOT expected if you are initializing BertForTokenClassification from the checkpoint of a model that you expect to be exactly identical (initializing a BertForSequenceClassification model from a BertForSequenceClassification model).\n",
      "Device set to use cuda:0\n",
      "c:\\Users\\vatan\\AppData\\Local\\Programs\\Python\\Python311\\Lib\\site-packages\\transformers\\pipelines\\token_classification.py:170: UserWarning: `grouped_entities` is deprecated and will be removed in version v5.0.0, defaulted to `aggregation_strategy=\"AggregationStrategy.SIMPLE\"` instead.\n",
      "  warnings.warn(\n",
      "c:\\Users\\vatan\\AppData\\Local\\Programs\\Python\\Python311\\Lib\\site-packages\\transformers\\convert_slow_tokenizer.py:561: UserWarning: The sentencepiece tokenizer that you are converting to a fast tokenizer uses the byte fallback option which is not implemented in the fast tokenizers. In practice this means that the fast version of the tokenizer can produce unknown tokens whereas the sentencepiece version would have converted these unknown tokens into a sequence of byte tokens matching the original piece of text.\n",
      "  warnings.warn(\n",
      "Device set to use cuda:0\n"
     ]
    }
   ],
   "source": [
    "from transformers import pipeline\n",
    "\n",
    "# MODEL 1\n",
    "ner_bert = pipeline(\n",
    "    task=\"ner\",\n",
    "    model=\"savasy/bert-base-turkish-ner-cased\",\n",
    "    tokenizer=\"savasy/bert-base-turkish-ner-cased\",\n",
    "    grouped_entities=True\n",
    ")\n",
    "\n",
    "# MODEL 2\n",
    "ner_mdeberta = pipeline(\n",
    "    task=\"ner\",\n",
    "    model=\"akdeniz27/mDeBERTa-v3-base-turkish-ner\",\n",
    "    tokenizer=\"akdeniz27/mDeBERTa-v3-base-turkish-ner\",\n",
    "    grouped_entities=True\n",
    ")"
   ]
  },
  {
   "cell_type": "code",
   "execution_count": 3,
   "id": "17a10dd6",
   "metadata": {},
   "outputs": [],
   "source": [
    "import re\n",
    "\n",
    "def lower_turkish(text: str) -> str:\n",
    "    return text.lower()\n",
    "\n",
    "def expand_abbreviations(text: str) -> str:\n",
    "    abbreviations = {\n",
    "        r\"\\bmah\\.\": \"mahallesi\",\n",
    "        r\"\\bsk\\.\": \"sokak\",\n",
    "        r\"\\bcad\\.\": \"cadde\",\n",
    "        r\"\\bno\\.\": \"numara\"\n",
    "    }\n",
    "    for pattern, replacement in abbreviations.items():\n",
    "        text = re.sub(pattern, replacement, text, flags=re.IGNORECASE)\n",
    "    return text\n",
    "\n",
    "def temizle(adres):\n",
    "    return expand_abbreviations(lower_turkish(adres))"
   ]
  },
  {
   "cell_type": "code",
   "execution_count": 4,
   "id": "10c5d83b",
   "metadata": {},
   "outputs": [
    {
     "name": "stdout",
     "output_type": "stream",
     "text": [
      "🔸 Orijinal: İNÖNÜ mah. çiçek sk. no.5 Bakırköy İstanbul\n",
      "🔹 Temiz: i̇nönü mahallesi çiçek sokak numara5 bakırköy i̇stanbul\n",
      "🧠 Model 1 (BERT):\n"
     ]
    },
    {
     "name": "stderr",
     "output_type": "stream",
     "text": [
      "Asking to truncate to max_length but no maximum length is provided and the model has no predefined maximum length. Default to no truncation.\n"
     ]
    },
    {
     "name": "stdout",
     "output_type": "stream",
     "text": [
      "  - i → LOC\n",
      "  - ##nönü → LOC\n",
      "  - bakırköy → LOC\n",
      "  - ##stanbul → LOC\n",
      "🧠 Model 2 (mDeBERTa):\n",
      "  -  → LOC\n",
      "  - i̇ → LOC\n",
      "  - n → LOC\n",
      "  - önü → LOC\n",
      "  -  → LOC\n",
      "  - çiç → LOC\n",
      "  - bakı → LOC\n",
      "  - r → LOC\n",
      "  - köy → LOC\n",
      "  - i̇ → LOC\n",
      "  - stanbul → LOC\n",
      "------------------------------------------------------------\n",
      "🔸 Orijinal: Mustafa Kemal mah. cad. 14/2 Ankara\n",
      "🔹 Temiz: mustafa kemal mahallesi cadde 14/2 ankara\n",
      "🧠 Model 1 (BERT):\n",
      "  - mustafa kemal → LOC\n",
      "  - ankara → LOC\n",
      "🧠 Model 2 (mDeBERTa):\n",
      "  - musta → LOC\n",
      "  - fa → LOC\n",
      "  - ankara → LOC\n",
      "------------------------------------------------------------\n",
      "🔸 Orijinal: valikonağı cad. no.25 Şişli\n",
      "🔹 Temiz: valikonağı cadde numara25 şişli\n",
      "🧠 Model 1 (BERT):\n",
      "  - valikonağı → LOC\n",
      "  - şişli → LOC\n",
      "🧠 Model 2 (mDeBERTa):\n",
      "  - valik → LOC\n",
      "  - şiş → LOC\n",
      "------------------------------------------------------------\n",
      "🔸 Orijinal: Adnan Menderes bulvarı, Atatürk mah., Bornova İzmir\n",
      "🔹 Temiz: adnan menderes bulvarı, atatürk mahallesi, bornova i̇zmir\n",
      "🧠 Model 1 (BERT):\n",
      "  - adnan menderes bulvarı → LOC\n",
      "  - atatürk mahallesi → LOC\n",
      "  - bornova i → LOC\n",
      "  - ##zmir → LOC\n",
      "🧠 Model 2 (mDeBERTa):\n",
      "  - ad → LOC\n",
      "  - nan men → LOC\n",
      "  -  → LOC\n",
      "  - ata → LOC\n",
      "  - türk → LOC\n",
      "  - bor → LOC\n",
      "------------------------------------------------------------\n"
     ]
    }
   ],
   "source": [
    "adresler = [\n",
    "    \"İNÖNÜ mah. çiçek sk. no.5 Bakırköy İstanbul\",\n",
    "    \"Mustafa Kemal mah. cad. 14/2 Ankara\",\n",
    "    \"valikonağı cad. no.25 Şişli\",\n",
    "    \"Adnan Menderes bulvarı, Atatürk mah., Bornova İzmir\"\n",
    "]\n",
    "\n",
    "for adres in adresler:\n",
    "    print(\"🔸 Orijinal:\", adres)\n",
    "    temiz_adres = temizle(adres)\n",
    "    print(\"🔹 Temiz:\", temiz_adres)\n",
    "\n",
    "    print(\"🧠 Model 1 (BERT):\")\n",
    "    for ent in ner_bert(temiz_adres):\n",
    "        print(f\"  - {ent['word']} → {ent['entity_group']}\")\n",
    "\n",
    "    print(\"🧠 Model 2 (mDeBERTa):\")\n",
    "    for ent in ner_mdeberta(temiz_adres):\n",
    "        print(f\"  - {ent['word']} → {ent['entity_group']}\")\n",
    "\n",
    "    print(\"-\" * 60)"
   ]
  }
 ],
 "metadata": {
  "kernelspec": {
   "display_name": "Python 3",
   "language": "python",
   "name": "python3"
  },
  "language_info": {
   "codemirror_mode": {
    "name": "ipython",
    "version": 3
   },
   "file_extension": ".py",
   "mimetype": "text/x-python",
   "name": "python",
   "nbconvert_exporter": "python",
   "pygments_lexer": "ipython3",
   "version": "3.11.8"
  }
 },
 "nbformat": 4,
 "nbformat_minor": 5
}
