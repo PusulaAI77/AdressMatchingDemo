{
 "cells": [
  {
   "cell_type": "code",
   "execution_count": 2,
   "id": "7ccd0d9f",
   "metadata": {},
   "outputs": [],
   "source": [
    "import sys\n",
    "import os\n",
    "sys.path.append(os.path.abspath(\"..\"))  # üst klasörü ekle\n",
    "\n",
    "from services.preprocessing import temizle\n"
   ]
  },
  {
   "cell_type": "code",
   "execution_count": 4,
   "id": "9323a4ce",
   "metadata": {},
   "outputs": [
    {
     "ename": "OSError",
     "evalue": "[WinError 126] Belirtilen modül bulunamadı. Error loading \"c:\\Users\\FEYZA ALEYNA ERKUL\\AppData\\Local\\Programs\\Python\\Python312\\Lib\\site-packages\\torch\\lib\\fbgemm.dll\" or one of its dependencies.",
     "output_type": "error",
     "traceback": [
      "\u001b[31m---------------------------------------------------------------------------\u001b[39m",
      "\u001b[31mOSError\u001b[39m                                   Traceback (most recent call last)",
      "\u001b[36mCell\u001b[39m\u001b[36m \u001b[39m\u001b[32mIn[4]\u001b[39m\u001b[32m, line 1\u001b[39m\n\u001b[32m----> \u001b[39m\u001b[32m1\u001b[39m \u001b[38;5;28;01mfrom\u001b[39;00m \u001b[34;01mtransformers\u001b[39;00m \u001b[38;5;28;01mimport\u001b[39;00m pipeline\n\u001b[32m      3\u001b[39m \u001b[38;5;66;03m# MODEL 1\u001b[39;00m\n\u001b[32m      4\u001b[39m ner_bert = pipeline(\n\u001b[32m      5\u001b[39m     task=\u001b[33m\"\u001b[39m\u001b[33mner\u001b[39m\u001b[33m\"\u001b[39m,\n\u001b[32m      6\u001b[39m     model=\u001b[33m\"\u001b[39m\u001b[33msavasy/bert-base-turkish-ner-cased\u001b[39m\u001b[33m\"\u001b[39m,\n\u001b[32m      7\u001b[39m     tokenizer=\u001b[33m\"\u001b[39m\u001b[33msavasy/bert-base-turkish-ner-cased\u001b[39m\u001b[33m\"\u001b[39m,\n\u001b[32m      8\u001b[39m     grouped_entities=\u001b[38;5;28;01mTrue\u001b[39;00m\n\u001b[32m      9\u001b[39m )\n",
      "\u001b[36mFile \u001b[39m\u001b[32mc:\\Users\\FEYZA ALEYNA ERKUL\\AppData\\Local\\Programs\\Python\\Python312\\Lib\\site-packages\\transformers\\__init__.py:26\u001b[39m\n\u001b[32m     23\u001b[39m \u001b[38;5;28;01mfrom\u001b[39;00m \u001b[34;01mtyping\u001b[39;00m \u001b[38;5;28;01mimport\u001b[39;00m TYPE_CHECKING\n\u001b[32m     25\u001b[39m \u001b[38;5;66;03m# Check the dependencies satisfy the minimal versions required.\u001b[39;00m\n\u001b[32m---> \u001b[39m\u001b[32m26\u001b[39m \u001b[38;5;28;01mfrom\u001b[39;00m \u001b[34;01m.\u001b[39;00m \u001b[38;5;28;01mimport\u001b[39;00m dependency_versions_check\n\u001b[32m     27\u001b[39m \u001b[38;5;28;01mfrom\u001b[39;00m \u001b[34;01m.\u001b[39;00m\u001b[34;01mutils\u001b[39;00m \u001b[38;5;28;01mimport\u001b[39;00m (\n\u001b[32m     28\u001b[39m     OptionalDependencyNotAvailable,\n\u001b[32m     29\u001b[39m     _LazyModule,\n\u001b[32m   (...)\u001b[39m\u001b[32m     48\u001b[39m     logging,\n\u001b[32m     49\u001b[39m )\n\u001b[32m     52\u001b[39m logger = logging.get_logger(\u001b[34m__name__\u001b[39m)  \u001b[38;5;66;03m# pylint: disable=invalid-name\u001b[39;00m\n",
      "\u001b[36mFile \u001b[39m\u001b[32mc:\\Users\\FEYZA ALEYNA ERKUL\\AppData\\Local\\Programs\\Python\\Python312\\Lib\\site-packages\\transformers\\dependency_versions_check.py:16\u001b[39m\n\u001b[32m      1\u001b[39m \u001b[38;5;66;03m# Copyright 2020 The HuggingFace Team. All rights reserved.\u001b[39;00m\n\u001b[32m      2\u001b[39m \u001b[38;5;66;03m#\u001b[39;00m\n\u001b[32m      3\u001b[39m \u001b[38;5;66;03m# Licensed under the Apache License, Version 2.0 (the \"License\");\u001b[39;00m\n\u001b[32m   (...)\u001b[39m\u001b[32m     12\u001b[39m \u001b[38;5;66;03m# See the License for the specific language governing permissions and\u001b[39;00m\n\u001b[32m     13\u001b[39m \u001b[38;5;66;03m# limitations under the License.\u001b[39;00m\n\u001b[32m     15\u001b[39m \u001b[38;5;28;01mfrom\u001b[39;00m \u001b[34;01m.\u001b[39;00m\u001b[34;01mdependency_versions_table\u001b[39;00m \u001b[38;5;28;01mimport\u001b[39;00m deps\n\u001b[32m---> \u001b[39m\u001b[32m16\u001b[39m \u001b[38;5;28;01mfrom\u001b[39;00m \u001b[34;01m.\u001b[39;00m\u001b[34;01mutils\u001b[39;00m\u001b[34;01m.\u001b[39;00m\u001b[34;01mversions\u001b[39;00m \u001b[38;5;28;01mimport\u001b[39;00m require_version, require_version_core\n\u001b[32m     19\u001b[39m \u001b[38;5;66;03m# define which module versions we always want to check at run time\u001b[39;00m\n\u001b[32m     20\u001b[39m \u001b[38;5;66;03m# (usually the ones defined in `install_requires` in setup.py)\u001b[39;00m\n\u001b[32m     21\u001b[39m \u001b[38;5;66;03m#\u001b[39;00m\n\u001b[32m     22\u001b[39m \u001b[38;5;66;03m# order specific notes:\u001b[39;00m\n\u001b[32m     23\u001b[39m \u001b[38;5;66;03m# - tqdm must be checked before tokenizers\u001b[39;00m\n\u001b[32m     25\u001b[39m pkgs_to_check_at_runtime = [\n\u001b[32m     26\u001b[39m     \u001b[33m\"\u001b[39m\u001b[33mpython\u001b[39m\u001b[33m\"\u001b[39m,\n\u001b[32m     27\u001b[39m     \u001b[33m\"\u001b[39m\u001b[33mtqdm\u001b[39m\u001b[33m\"\u001b[39m,\n\u001b[32m   (...)\u001b[39m\u001b[32m     37\u001b[39m     \u001b[33m\"\u001b[39m\u001b[33mpyyaml\u001b[39m\u001b[33m\"\u001b[39m,\n\u001b[32m     38\u001b[39m ]\n",
      "\u001b[36mFile \u001b[39m\u001b[32mc:\\Users\\FEYZA ALEYNA ERKUL\\AppData\\Local\\Programs\\Python\\Python312\\Lib\\site-packages\\transformers\\utils\\__init__.py:34\u001b[39m\n\u001b[32m     25\u001b[39m \u001b[38;5;28;01mfrom\u001b[39;00m \u001b[34;01m.\u001b[39;00m\u001b[34;01mconstants\u001b[39;00m \u001b[38;5;28;01mimport\u001b[39;00m IMAGENET_DEFAULT_MEAN, IMAGENET_DEFAULT_STD, IMAGENET_STANDARD_MEAN, IMAGENET_STANDARD_STD\n\u001b[32m     26\u001b[39m \u001b[38;5;28;01mfrom\u001b[39;00m \u001b[34;01m.\u001b[39;00m\u001b[34;01mdoc\u001b[39;00m \u001b[38;5;28;01mimport\u001b[39;00m (\n\u001b[32m     27\u001b[39m     add_code_sample_docstrings,\n\u001b[32m     28\u001b[39m     add_end_docstrings,\n\u001b[32m   (...)\u001b[39m\u001b[32m     32\u001b[39m     replace_return_docstrings,\n\u001b[32m     33\u001b[39m )\n\u001b[32m---> \u001b[39m\u001b[32m34\u001b[39m \u001b[38;5;28;01mfrom\u001b[39;00m \u001b[34;01m.\u001b[39;00m\u001b[34;01mgeneric\u001b[39;00m \u001b[38;5;28;01mimport\u001b[39;00m (\n\u001b[32m     35\u001b[39m     ContextManagers,\n\u001b[32m     36\u001b[39m     ExplicitEnum,\n\u001b[32m     37\u001b[39m     ModelOutput,\n\u001b[32m     38\u001b[39m     PaddingStrategy,\n\u001b[32m     39\u001b[39m     TensorType,\n\u001b[32m     40\u001b[39m     add_model_info_to_auto_map,\n\u001b[32m     41\u001b[39m     add_model_info_to_custom_pipelines,\n\u001b[32m     42\u001b[39m     cached_property,\n\u001b[32m     43\u001b[39m     can_return_loss,\n\u001b[32m     44\u001b[39m     expand_dims,\n\u001b[32m     45\u001b[39m     filter_out_non_signature_kwargs,\n\u001b[32m     46\u001b[39m     find_labels,\n\u001b[32m     47\u001b[39m     flatten_dict,\n\u001b[32m     48\u001b[39m     infer_framework,\n\u001b[32m     49\u001b[39m     is_jax_tensor,\n\u001b[32m     50\u001b[39m     is_numpy_array,\n\u001b[32m     51\u001b[39m     is_tensor,\n\u001b[32m     52\u001b[39m     is_tf_symbolic_tensor,\n\u001b[32m     53\u001b[39m     is_tf_tensor,\n\u001b[32m     54\u001b[39m     is_torch_device,\n\u001b[32m     55\u001b[39m     is_torch_dtype,\n\u001b[32m     56\u001b[39m     is_torch_tensor,\n\u001b[32m     57\u001b[39m     reshape,\n\u001b[32m     58\u001b[39m     squeeze,\n\u001b[32m     59\u001b[39m     strtobool,\n\u001b[32m     60\u001b[39m     tensor_size,\n\u001b[32m     61\u001b[39m     to_numpy,\n\u001b[32m     62\u001b[39m     to_py_obj,\n\u001b[32m     63\u001b[39m     torch_float,\n\u001b[32m     64\u001b[39m     torch_int,\n\u001b[32m     65\u001b[39m     transpose,\n\u001b[32m     66\u001b[39m     working_or_temp_dir,\n\u001b[32m     67\u001b[39m )\n\u001b[32m     68\u001b[39m \u001b[38;5;28;01mfrom\u001b[39;00m \u001b[34;01m.\u001b[39;00m\u001b[34;01mhub\u001b[39;00m \u001b[38;5;28;01mimport\u001b[39;00m (\n\u001b[32m     69\u001b[39m     CLOUDFRONT_DISTRIB_PREFIX,\n\u001b[32m     70\u001b[39m     HF_MODULES_CACHE,\n\u001b[32m   (...)\u001b[39m\u001b[32m     96\u001b[39m     try_to_load_from_cache,\n\u001b[32m     97\u001b[39m )\n\u001b[32m     98\u001b[39m \u001b[38;5;28;01mfrom\u001b[39;00m \u001b[34;01m.\u001b[39;00m\u001b[34;01mimport_utils\u001b[39;00m \u001b[38;5;28;01mimport\u001b[39;00m (\n\u001b[32m     99\u001b[39m     ACCELERATE_MIN_VERSION,\n\u001b[32m    100\u001b[39m     ENV_VARS_TRUE_AND_AUTO_VALUES,\n\u001b[32m   (...)\u001b[39m\u001b[32m    219\u001b[39m     torch_only_method,\n\u001b[32m    220\u001b[39m )\n",
      "\u001b[36mFile \u001b[39m\u001b[32mc:\\Users\\FEYZA ALEYNA ERKUL\\AppData\\Local\\Programs\\Python\\Python312\\Lib\\site-packages\\transformers\\utils\\generic.py:462\u001b[39m\n\u001b[32m    458\u001b[39m         \u001b[38;5;28;01mreturn\u001b[39;00m \u001b[38;5;28mtuple\u001b[39m(\u001b[38;5;28mself\u001b[39m[k] \u001b[38;5;28;01mfor\u001b[39;00m k \u001b[38;5;129;01min\u001b[39;00m \u001b[38;5;28mself\u001b[39m.keys())\n\u001b[32m    461\u001b[39m \u001b[38;5;28;01mif\u001b[39;00m is_torch_available():\n\u001b[32m--> \u001b[39m\u001b[32m462\u001b[39m     \u001b[38;5;28;01mimport\u001b[39;00m \u001b[34;01mtorch\u001b[39;00m\u001b[34;01m.\u001b[39;00m\u001b[34;01mutils\u001b[39;00m\u001b[34;01m.\u001b[39;00m\u001b[34;01m_pytree\u001b[39;00m \u001b[38;5;28;01mas\u001b[39;00m \u001b[34;01m_torch_pytree\u001b[39;00m\n\u001b[32m    464\u001b[39m     \u001b[38;5;28;01mdef\u001b[39;00m \u001b[34m_model_output_flatten\u001b[39m(output: ModelOutput) -> Tuple[List[Any], \u001b[33m\"\u001b[39m\u001b[33m_torch_pytree.Context\u001b[39m\u001b[33m\"\u001b[39m]:\n\u001b[32m    465\u001b[39m         \u001b[38;5;28;01mreturn\u001b[39;00m \u001b[38;5;28mlist\u001b[39m(output.values()), \u001b[38;5;28mlist\u001b[39m(output.keys())\n",
      "\u001b[36mFile \u001b[39m\u001b[32mc:\\Users\\FEYZA ALEYNA ERKUL\\AppData\\Local\\Programs\\Python\\Python312\\Lib\\site-packages\\torch\\__init__.py:148\u001b[39m\n\u001b[32m    146\u001b[39m                 err = ctypes.WinError(ctypes.get_last_error())\n\u001b[32m    147\u001b[39m                 err.strerror += \u001b[33mf\u001b[39m\u001b[33m'\u001b[39m\u001b[33m Error loading \u001b[39m\u001b[33m\"\u001b[39m\u001b[38;5;132;01m{\u001b[39;00mdll\u001b[38;5;132;01m}\u001b[39;00m\u001b[33m\"\u001b[39m\u001b[33m or one of its dependencies.\u001b[39m\u001b[33m'\u001b[39m\n\u001b[32m--> \u001b[39m\u001b[32m148\u001b[39m                 \u001b[38;5;28;01mraise\u001b[39;00m err\n\u001b[32m    150\u001b[39m     kernel32.SetErrorMode(prev_error_mode)\n\u001b[32m    153\u001b[39m \u001b[38;5;28;01mdef\u001b[39;00m \u001b[34m_preload_cuda_deps\u001b[39m(lib_folder, lib_name):\n",
      "\u001b[31mOSError\u001b[39m: [WinError 126] Belirtilen modül bulunamadı. Error loading \"c:\\Users\\FEYZA ALEYNA ERKUL\\AppData\\Local\\Programs\\Python\\Python312\\Lib\\site-packages\\torch\\lib\\fbgemm.dll\" or one of its dependencies."
     ]
    }
   ],
   "source": [
    "from transformers import pipeline\n",
    "\n",
    "# MODEL 1\n",
    "ner_bert = pipeline(\n",
    "    task=\"ner\",\n",
    "    model=\"savasy/bert-base-turkish-ner-cased\",\n",
    "    tokenizer=\"savasy/bert-base-turkish-ner-cased\",\n",
    "    grouped_entities=True\n",
    ")\n",
    "\n",
    "# MODEL 2\n",
    "ner_mdeberta = pipeline(\n",
    "    task=\"ner\",\n",
    "    model=\"akdeniz27/mDeBERTa-v3-base-turkish-ner\",\n",
    "    tokenizer=\"akdeniz27/mDeBERTa-v3-base-turkish-ner\",\n",
    "    grouped_entities=True\n",
    ")"
   ]
  },
  {
   "cell_type": "code",
   "execution_count": 3,
   "id": "17a10dd6",
   "metadata": {},
   "outputs": [],
   "source": [
    "import re\n",
    "\n",
    "def lower_turkish(text: str) -> str:\n",
    "    return text.lower()\n",
    "\n",
    "def expand_abbreviations(text: str) -> str:\n",
    "    abbreviations = {\n",
    "        r\"\\bmah\\.\": \"mahallesi\",\n",
    "        r\"\\bsk\\.\": \"sokak\",\n",
    "        r\"\\bcad\\.\": \"cadde\",\n",
    "        r\"\\bno\\.\": \"numara\"\n",
    "    }\n",
    "    for pattern, replacement in abbreviations.items():\n",
    "        text = re.sub(pattern, replacement, text, flags=re.IGNORECASE)\n",
    "    return text\n",
    "\n",
    "def temizle(adres):\n",
    "    return expand_abbreviations(lower_turkish(adres))"
   ]
  },
  {
   "cell_type": "code",
   "execution_count": 4,
   "id": "10c5d83b",
   "metadata": {},
   "outputs": [
    {
     "name": "stdout",
     "output_type": "stream",
     "text": [
      "🔸 Orijinal: İNÖNÜ mah. çiçek sk. no.5 Bakırköy İstanbul\n",
      "🔹 Temiz: i̇nönü mahallesi çiçek sokak numara5 bakırköy i̇stanbul\n",
      "🧠 Model 1 (BERT):\n"
     ]
    },
    {
     "name": "stderr",
     "output_type": "stream",
     "text": [
      "Asking to truncate to max_length but no maximum length is provided and the model has no predefined maximum length. Default to no truncation.\n"
     ]
    },
    {
     "name": "stdout",
     "output_type": "stream",
     "text": [
      "  - i → LOC\n",
      "  - ##nönü → LOC\n",
      "  - bakırköy → LOC\n",
      "  - ##stanbul → LOC\n",
      "🧠 Model 2 (mDeBERTa):\n",
      "  -  → LOC\n",
      "  - i̇ → LOC\n",
      "  - n → LOC\n",
      "  - önü → LOC\n",
      "  -  → LOC\n",
      "  - çiç → LOC\n",
      "  - bakı → LOC\n",
      "  - r → LOC\n",
      "  - köy → LOC\n",
      "  - i̇ → LOC\n",
      "  - stanbul → LOC\n",
      "------------------------------------------------------------\n",
      "🔸 Orijinal: Mustafa Kemal mah. cad. 14/2 Ankara\n",
      "🔹 Temiz: mustafa kemal mahallesi cadde 14/2 ankara\n",
      "🧠 Model 1 (BERT):\n",
      "  - mustafa kemal → LOC\n",
      "  - ankara → LOC\n",
      "🧠 Model 2 (mDeBERTa):\n",
      "  - musta → LOC\n",
      "  - fa → LOC\n",
      "  - ankara → LOC\n",
      "------------------------------------------------------------\n",
      "🔸 Orijinal: valikonağı cad. no.25 Şişli\n",
      "🔹 Temiz: valikonağı cadde numara25 şişli\n",
      "🧠 Model 1 (BERT):\n",
      "  - valikonağı → LOC\n",
      "  - şişli → LOC\n",
      "🧠 Model 2 (mDeBERTa):\n",
      "  - valik → LOC\n",
      "  - şiş → LOC\n",
      "------------------------------------------------------------\n",
      "🔸 Orijinal: Adnan Menderes bulvarı, Atatürk mah., Bornova İzmir\n",
      "🔹 Temiz: adnan menderes bulvarı, atatürk mahallesi, bornova i̇zmir\n",
      "🧠 Model 1 (BERT):\n",
      "  - adnan menderes bulvarı → LOC\n",
      "  - atatürk mahallesi → LOC\n",
      "  - bornova i → LOC\n",
      "  - ##zmir → LOC\n",
      "🧠 Model 2 (mDeBERTa):\n",
      "  - ad → LOC\n",
      "  - nan men → LOC\n",
      "  -  → LOC\n",
      "  - ata → LOC\n",
      "  - türk → LOC\n",
      "  - bor → LOC\n",
      "------------------------------------------------------------\n"
     ]
    }
   ],
   "source": [
    "adresler = [\n",
    "    \"İNÖNÜ mah. çiçek sk. no.5 Bakırköy İstanbul\",\n",
    "    \"Mustafa Kemal mah. cad. 14/2 Ankara\",\n",
    "    \"valikonağı cad. no.25 Şişli\",\n",
    "    \"Adnan Menderes bulvarı, Atatürk mah., Bornova İzmir\"\n",
    "]\n",
    "\n",
    "for adres in adresler:\n",
    "    print(\"🔸 Orijinal:\", adres)\n",
    "    temiz_adres = temizle(adres)\n",
    "    print(\"🔹 Temiz:\", temiz_adres)\n",
    "\n",
    "    print(\"🧠 Model 1 (BERT):\")\n",
    "    for ent in ner_bert(temiz_adres):\n",
    "        print(f\"  - {ent['word']} → {ent['entity_group']}\")\n",
    "\n",
    "    print(\"🧠 Model 2 (mDeBERTa):\")\n",
    "    for ent in ner_mdeberta(temiz_adres):\n",
    "        print(f\"  - {ent['word']} → {ent['entity_group']}\")\n",
    "\n",
    "    print(\"-\" * 60)"
   ]
  }
 ],
 "metadata": {
  "kernelspec": {
   "display_name": "Python 3",
   "language": "python",
   "name": "python3"
  },
  "language_info": {
   "codemirror_mode": {
    "name": "ipython",
    "version": 3
   },
   "file_extension": ".py",
   "mimetype": "text/x-python",
   "name": "python",
   "nbconvert_exporter": "python",
   "pygments_lexer": "ipython3",
   "version": "3.12.4"
  }
 },
 "nbformat": 4,
 "nbformat_minor": 5
}
